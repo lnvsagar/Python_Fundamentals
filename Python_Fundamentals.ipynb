{
 "cells": [
  {
   "cell_type": "code",
   "execution_count": 22,
   "metadata": {},
   "outputs": [
    {
     "name": "stdout",
     "output_type": "stream",
     "text": [
      "    #####Sagar's Assignment####  \n"
     ]
    }
   ],
   "source": [
    "'This is a comment'\n",
    "\"This is a comment\"\n",
    "\"'This is a comment'\"\n",
    "'''A line containing only whitespace, possibly with a comment, is known as a blank line and Python totally ignores it.\n",
    "In an interactive interpreter session, you must enter an empty physical line to terminate a multiline statement.'''\n",
    "\n",
    "print (\"    #####Sagar's Assignment####  \")\n"
   ]
  },
  {
   "cell_type": "code",
   "execution_count": 36,
   "metadata": {},
   "outputs": [
    {
     "name": "stdout",
     "output_type": "stream",
     "text": [
      "Value of txt is sagar\n",
      "Grammatically, value of txt is Sagar\n",
      "Upper case of txt is SAGAR\n",
      "Lower case of txt is sagar\n"
     ]
    }
   ],
   "source": [
    "txt= 'sagar'\n",
    "print(f\"Value of txt is {txt}\")\n",
    "print(\"Grammatically, value of txt is \" +txt.title())\n",
    "print(\"Upper case of txt is \"+txt.upper())\n",
    "print(\"Lower case of txt is \"+txt.lower())"
   ]
  },
  {
   "cell_type": "code",
   "execution_count": 42,
   "metadata": {},
   "outputs": [
    {
     "name": "stdout",
     "output_type": "stream",
     "text": [
      "Vidya sagar\n",
      "Vidya Sagar\n",
      "Hi, how are you Vidya Sagar\n"
     ]
    }
   ],
   "source": [
    "first_name= \"sagar\"\n",
    "last_name= 'Vidya'\n",
    "full_name=f\"{last_name} {first_name}\"\n",
    "print(full_name)\n",
    "print(full_name.title())\n",
    "print(f\"Hi, how are you {full_name.title()}\")"
   ]
  },
  {
   "cell_type": "code",
   "execution_count": 16,
   "metadata": {},
   "outputs": [
    {
     "name": "stdout",
     "output_type": "stream",
     "text": [
      "Object type of x is <class 'int'>\n"
     ]
    }
   ],
   "source": [
    "x=5\n",
    "print(f\"Object type of x is {type(x)}\")"
   ]
  },
  {
   "cell_type": "code",
   "execution_count": 21,
   "metadata": {},
   "outputs": [
    {
     "name": "stdout",
     "output_type": "stream",
     "text": [
      "My name is Sagar    \n",
      "     My name is Sagar\n",
      "My name is Sagar\n"
     ]
    }
   ],
   "source": [
    "txt=\"     My name is Sagar    \"\n",
    "print (txt.lstrip())\n",
    "print (txt.rstrip())\n",
    "print (txt.strip())"
   ]
  },
  {
   "cell_type": "code",
   "execution_count": 23,
   "metadata": {},
   "outputs": [
    {
     "name": "stdout",
     "output_type": "stream",
     "text": [
      "['Sagar0', 'Sagar1', 'Sagar2', 'Sagar3']\n"
     ]
    }
   ],
   "source": []
  },
  {
   "cell_type": "code",
   "execution_count": 24,
   "metadata": {},
   "outputs": [
    {
     "name": "stdout",
     "output_type": "stream",
     "text": [
      "My List is ['Sagar0', 'Sagar1', 'Sagar2', 'Sagar3']\n",
      "Object type of mylists is <class 'list'>\n"
     ]
    }
   ],
   "source": [
    "\n",
    "print(f\"My List is {mylists}\")\n",
    "print(f\"Object type of mylists is {type(mylists)}\")"
   ]
  },
  {
   "cell_type": "code",
   "execution_count": 61,
   "metadata": {},
   "outputs": [
    {
     "name": "stdout",
     "output_type": "stream",
     "text": [
      "Value of x is 100 and Value of y is 100\n",
      "Object type of x is <class 'int'> and Object type of y is <class 'int'>\n",
      "Value of y is changed to 200\n",
      "9\n",
      "Addition of a and b is 9\n",
      "-3\n",
      "Substraction of b and c is -3\n",
      "35\n",
      "1.4\n",
      "<class 'float'>\n",
      "<class 'float'>\n",
      "Value of f is 13.73\n"
     ]
    }
   ],
   "source": [
    "x=y=100\n",
    "print(f\"Value of x is {x} and Value of y is {y}\")\n",
    "\n",
    "print(f\"Object type of x is {type(x)} and Object type of y is {type(y)}\")\n",
    "#print('\\n')\n",
    "y=200\n",
    "print(f\"Value of y is changed to {y}\")\n",
    "a,b,c=7,2,5\n",
    "print(a+b)\n",
    "print(f\"Addition of a and b is {a+b}\")\n",
    "print(b-c)\n",
    "print(f\"Substraction of b and c is {b-c}\")\n",
    "print(c*a)\n",
    "print(a/c)\n",
    "d=12.5\n",
    "e=1.23\n",
    "print(type(d))\n",
    "f=d+e\n",
    "print(type(f))\n",
    "print(f\"Value of f is {f}\")\n",
    "\n"
   ]
  },
  {
   "cell_type": "code",
   "execution_count": 78,
   "metadata": {},
   "outputs": [
    {
     "name": "stdout",
     "output_type": "stream",
     "text": [
      "['Sagar0', 'Sagar1', 'sagar2', 'Sagar3']\n",
      "Sagar2\n",
      "['Sagar0', 'Sagar1', 'vidya', 'Sagar3', 'Lin']\n",
      "['Sagar0', 'Sagar1', 'Modified List', 'vidya', 'Sagar3', 'Lin']\n",
      "['Sagar0', 'Sagar1', 'vidya', 'Sagar3', 'Lin']\n",
      "['Sagar0', 'Sagar1', 'vidya', 'Sagar3']\n",
      "['Sagar1', 'vidya', 'Sagar3']\n",
      "['Sagar1', 'Sagar3', 'vidya']\n",
      "['vidya', 'Sagar3', 'Sagar1']\n",
      "Length of the list is 3\n"
     ]
    }
   ],
   "source": [
    "mylists= [\"Sagar0\",\"Sagar1\",\"sagar2\",\"Sagar3\"]\n",
    "\n",
    "print(mylists)\n",
    "print(mylists[2].title())\n",
    "mylists[2]='vidya'\n",
    "mylists.append('Lin')\n",
    "print(mylists)\n",
    "mylists.insert(2,'Modified List')\n",
    "print(mylists)\n",
    "del mylists[2]\n",
    "print(mylists)\n",
    "mylists.pop()\n",
    "print(mylists)\n",
    "mylists.pop(0)\n",
    "print(mylists)\n",
    "\n",
    "mylists.sort()\n",
    "print(mylists)\n",
    "\n",
    "mylists.sort(reverse=True)\n",
    "print(mylists)\n",
    "print(f\"Length of the list is {len(mylists)}\")\n"
   ]
  },
  {
   "cell_type": "code",
   "execution_count": 70,
   "metadata": {},
   "outputs": [
    {
     "name": "stdout",
     "output_type": "stream",
     "text": [
      "Value in mylists with index value of mylist[] is Sagar0\n",
      "\n",
      "Value in mylists with index value of mylist[] is Sagar1\n",
      "\n",
      "Value in mylists with index value of mylist[] is Modified List\n",
      "\n",
      "Value in mylists with index value of mylist[] is vidya\n",
      "\n",
      "Value in mylists with index value of mylist[] is Sagar3\n",
      "\n",
      "Value in mylists with index value of mylist[] is Lin\n",
      "\n"
     ]
    }
   ],
   "source": [
    "\n",
    "for mylist in mylists:\n",
    "    print(f\"Value in mylists with index value of mylist[] is {mylist}\\n\")\n"
   ]
  },
  {
   "cell_type": "code",
   "execution_count": null,
   "metadata": {},
   "outputs": [],
   "source": []
  }
 ],
 "metadata": {
  "kernelspec": {
   "display_name": "Python 3",
   "language": "python",
   "name": "python3"
  },
  "language_info": {
   "codemirror_mode": {
    "name": "ipython",
    "version": 3
   },
   "file_extension": ".py",
   "mimetype": "text/x-python",
   "name": "python",
   "nbconvert_exporter": "python",
   "pygments_lexer": "ipython3",
   "version": "3.7.3"
  }
 },
 "nbformat": 4,
 "nbformat_minor": 2
}
